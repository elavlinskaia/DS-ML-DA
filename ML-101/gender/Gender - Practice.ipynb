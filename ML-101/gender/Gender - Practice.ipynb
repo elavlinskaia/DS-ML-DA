{
 "cells": [
  {
   "cell_type": "markdown",
   "id": "225c841d",
   "metadata": {},
   "source": [
    "# \"Gender.\""
   ]
  },
  {
   "cell_type": "markdown",
   "id": "000cab4a",
   "metadata": {},
   "source": [
    "### _\"Classifying gender based on personal preferences\" (Binary classification task)._"
   ]
  },
  {
   "cell_type": "markdown",
   "id": "ba400c7e",
   "metadata": {},
   "source": [
    "## Table of Contents\n",
    "\n",
    "\n",
    "## Part 0: Introduction\n",
    "\n",
    "### Overview\n",
    "The dataset that's we see here contains 5 columns and 66 entries of data about personal preferences based on gender.\n",
    "\n",
    "Gender is a social construct. The way males and females are treated differently since birth moulds their behaviour and personal preferences into what society expects for their gender.\n",
    "\n",
    "**Метаданные:**\n",
    "    \n",
    "* **Favorite Color** - Favorite color (colors reported by respondents were mapped to either warm, cool or neutral)\n",
    " \n",
    "* **Favorite Music Genre** - Favorite broad music genre\n",
    "\n",
    "* **Favorite Beverage** - Favorite alcoholic drink\n",
    "\n",
    "* **Favorite Soft Drink** - Favorite fizzy drink\n",
    "\n",
    "* **Gender** - Binary gender \n",
    "\n",
    "\n",
    "\n",
    "### Questions:\n",
    "    \n",
    "Predict a person's gender based on their personal preferences (check balance of classes; calculate perdictions)\n",
    "\n",
    "\n",
    "## [Part 1: Import, Load Data](#Part-1:-Import,-Load-Data.)\n",
    "* ### Import libraries, Read data from ‘.csv’ file\n",
    "\n",
    "## [Part 2: Exploratory Data Analysis](#Part-2:-Exploratory-Data-Analysis.)\n",
    "* ### Info, Head\n",
    "* ### Rename Columns\n",
    "* ### Columns visualisation\n",
    "* ### 'gender' attribute value counts \n",
    "* ### Encode the Data\n",
    "\n",
    "## [Part 3: Data Wrangling and Transformation](#Part-3:-Data-Wrangling-and-Transformation.)\n",
    "* ### Creating datasets for ML part\n",
    "* ### 'Train\\Test' splitting method\n",
    "\n",
    "## [Part 4: Machine Learning](#Part-4:-Machine-Learning.)\n",
    "* ### Build, train and evaluate model \n",
    "    * #### Logistic Regression\n",
    "    * #### Visualisation of predictions\n",
    "    * #### Classification report\n",
    "    * #### Confusion Matrix\n",
    "    * #### ROC-AUC score\n",
    "\n",
    "## [Conclusion](#Conclusion.)\n"
   ]
  },
  {
   "cell_type": "markdown",
   "id": "70deaf72",
   "metadata": {},
   "source": [
    "## Part 1: Import, Load Data."
   ]
  },
  {
   "cell_type": "markdown",
   "id": "266ac06c",
   "metadata": {},
   "source": [
    "* ### Import libraries"
   ]
  },
  {
   "cell_type": "code",
   "execution_count": 3,
   "id": "275f2702",
   "metadata": {
    "_cell_guid": "b1076dfc-b9ad-4769-8c92-a6c4dae69d19",
    "_uuid": "8f2839f25d086af736a60e9eeb907d3b93b6e0e5",
    "execution": {
     "iopub.execute_input": "2021-05-12T06:37:35.552073Z",
     "iopub.status.busy": "2021-05-12T06:37:35.550650Z",
     "iopub.status.idle": "2021-05-12T06:37:35.574536Z",
     "shell.execute_reply": "2021-05-12T06:37:35.575034Z"
    },
    "papermill": {
     "duration": 0.050276,
     "end_time": "2021-05-12T06:37:35.575327",
     "exception": false,
     "start_time": "2021-05-12T06:37:35.525051",
     "status": "completed"
    },
    "tags": []
   },
   "outputs": [],
   "source": [
    "# import standard libraries\n",
    "import numpy as np\n",
    "import pandas as pd\n",
    "import seaborn as sns\n",
    "sns.set()\n",
    "import matplotlib.pyplot as plt\n",
    "%matplotlib inline\n",
    "\n",
    "from sklearn.preprocessing import LabelEncoder, StandardScaler\n",
    "from sklearn.model_selection import train_test_split, GridSearchCV\n",
    "import sklearn.metrics as metrics\n",
    "from sklearn.metrics import accuracy_score, confusion_matrix, classification_report, roc_auc_score\n",
    "from sklearn.linear_model import LogisticRegression\n",
    "\n",
    "import warnings\n",
    "warnings.filterwarnings('ignore')"
   ]
  },
  {
   "cell_type": "markdown",
   "id": "143fe8e1",
   "metadata": {
    "papermill": {
     "duration": 0.020256,
     "end_time": "2021-05-12T06:37:35.617997",
     "exception": false,
     "start_time": "2021-05-12T06:37:35.597741",
     "status": "completed"
    },
    "tags": []
   },
   "source": [
    "* ### Read data from ‘.csv’ file"
   ]
  },
  {
   "cell_type": "code",
   "execution_count": 4,
   "id": "6eabd428",
   "metadata": {
    "execution": {
     "iopub.execute_input": "2021-05-12T06:37:35.662611Z",
     "iopub.status.busy": "2021-05-12T06:37:35.661903Z",
     "iopub.status.idle": "2021-05-12T06:37:35.712174Z",
     "shell.execute_reply": "2021-05-12T06:37:35.711447Z"
    },
    "papermill": {
     "duration": 0.073936,
     "end_time": "2021-05-12T06:37:35.712323",
     "exception": false,
     "start_time": "2021-05-12T06:37:35.638387",
     "status": "completed"
    },
    "tags": []
   },
   "outputs": [],
   "source": [
    "# read data from '.csv' file\n",
    "df = pd.read_csv('gender.csv')"
   ]
  },
  {
   "cell_type": "markdown",
   "id": "fb473e16",
   "metadata": {},
   "source": [
    "## Part 2: Exploratory Data Analysis."
   ]
  },
  {
   "cell_type": "markdown",
   "id": "5bcb8715",
   "metadata": {
    "papermill": {
     "duration": 0.021453,
     "end_time": "2021-05-12T06:37:35.942783",
     "exception": false,
     "start_time": "2021-05-12T06:37:35.921330",
     "status": "completed"
    },
    "tags": []
   },
   "source": [
    "* ### Info"
   ]
  },
  {
   "cell_type": "code",
   "execution_count": 5,
   "id": "c18635dc",
   "metadata": {
    "execution": {
     "iopub.execute_input": "2021-05-12T06:37:35.995840Z",
     "iopub.status.busy": "2021-05-12T06:37:35.994818Z",
     "iopub.status.idle": "2021-05-12T06:37:35.999418Z",
     "shell.execute_reply": "2021-05-12T06:37:35.998890Z"
    },
    "papermill": {
     "duration": 0.034193,
     "end_time": "2021-05-12T06:37:35.999559",
     "exception": false,
     "start_time": "2021-05-12T06:37:35.965366",
     "status": "completed"
    },
    "scrolled": true,
    "tags": []
   },
   "outputs": [
    {
     "name": "stdout",
     "output_type": "stream",
     "text": [
      "<class 'pandas.core.frame.DataFrame'>\n",
      "RangeIndex: 66 entries, 0 to 65\n",
      "Data columns (total 5 columns):\n",
      " #   Column                Non-Null Count  Dtype \n",
      "---  ------                --------------  ----- \n",
      " 0   Favorite Color        66 non-null     object\n",
      " 1   Favorite Music Genre  66 non-null     object\n",
      " 2   Favorite Beverage     66 non-null     object\n",
      " 3   Favorite Soft Drink   66 non-null     object\n",
      " 4   Gender                66 non-null     object\n",
      "dtypes: object(5)\n",
      "memory usage: 2.7+ KB\n"
     ]
    }
   ],
   "source": [
    "# print the full summary of the dataset  \n",
    "df.info()"
   ]
  },
  {
   "cell_type": "markdown",
   "id": "13029447",
   "metadata": {},
   "source": [
    "Dataset consists of 66 rows and 5 columns;\n",
    "\n",
    "has 1 datatype: object(5);\n",
    "\n",
    "has no missing values."
   ]
  },
  {
   "cell_type": "markdown",
   "id": "9c78691b",
   "metadata": {},
   "source": [
    "* ### Head"
   ]
  },
  {
   "cell_type": "code",
   "execution_count": 6,
   "id": "ad8e2ff1",
   "metadata": {},
   "outputs": [
    {
     "data": {
      "text/html": [
       "<div>\n",
       "<style scoped>\n",
       "    .dataframe tbody tr th:only-of-type {\n",
       "        vertical-align: middle;\n",
       "    }\n",
       "\n",
       "    .dataframe tbody tr th {\n",
       "        vertical-align: top;\n",
       "    }\n",
       "\n",
       "    .dataframe thead th {\n",
       "        text-align: right;\n",
       "    }\n",
       "</style>\n",
       "<table border=\"1\" class=\"dataframe\">\n",
       "  <thead>\n",
       "    <tr style=\"text-align: right;\">\n",
       "      <th></th>\n",
       "      <th>Favorite Color</th>\n",
       "      <th>Favorite Music Genre</th>\n",
       "      <th>Favorite Beverage</th>\n",
       "      <th>Favorite Soft Drink</th>\n",
       "      <th>Gender</th>\n",
       "    </tr>\n",
       "  </thead>\n",
       "  <tbody>\n",
       "    <tr>\n",
       "      <th>0</th>\n",
       "      <td>Cool</td>\n",
       "      <td>Rock</td>\n",
       "      <td>Vodka</td>\n",
       "      <td>7UP/Sprite</td>\n",
       "      <td>F</td>\n",
       "    </tr>\n",
       "    <tr>\n",
       "      <th>1</th>\n",
       "      <td>Neutral</td>\n",
       "      <td>Hip hop</td>\n",
       "      <td>Vodka</td>\n",
       "      <td>Coca Cola/Pepsi</td>\n",
       "      <td>F</td>\n",
       "    </tr>\n",
       "    <tr>\n",
       "      <th>2</th>\n",
       "      <td>Warm</td>\n",
       "      <td>Rock</td>\n",
       "      <td>Wine</td>\n",
       "      <td>Coca Cola/Pepsi</td>\n",
       "      <td>F</td>\n",
       "    </tr>\n",
       "    <tr>\n",
       "      <th>3</th>\n",
       "      <td>Warm</td>\n",
       "      <td>Folk/Traditional</td>\n",
       "      <td>Whiskey</td>\n",
       "      <td>Fanta</td>\n",
       "      <td>F</td>\n",
       "    </tr>\n",
       "    <tr>\n",
       "      <th>4</th>\n",
       "      <td>Cool</td>\n",
       "      <td>Rock</td>\n",
       "      <td>Vodka</td>\n",
       "      <td>Coca Cola/Pepsi</td>\n",
       "      <td>F</td>\n",
       "    </tr>\n",
       "  </tbody>\n",
       "</table>\n",
       "</div>"
      ],
      "text/plain": [
       "  Favorite Color Favorite Music Genre Favorite Beverage Favorite Soft Drink   \n",
       "0           Cool                 Rock             Vodka          7UP/Sprite  \\\n",
       "1        Neutral              Hip hop             Vodka     Coca Cola/Pepsi   \n",
       "2           Warm                 Rock              Wine     Coca Cola/Pepsi   \n",
       "3           Warm     Folk/Traditional           Whiskey               Fanta   \n",
       "4           Cool                 Rock             Vodka     Coca Cola/Pepsi   \n",
       "\n",
       "  Gender  \n",
       "0      F  \n",
       "1      F  \n",
       "2      F  \n",
       "3      F  \n",
       "4      F  "
      ]
     },
     "execution_count": 6,
     "metadata": {},
     "output_type": "execute_result"
    }
   ],
   "source": [
    "# preview of the first 5 lines of the loaded data \n",
    "df.head()"
   ]
  },
  {
   "cell_type": "markdown",
   "id": "bed3090f",
   "metadata": {},
   "source": [
    "* ### Rename Columns"
   ]
  },
  {
   "cell_type": "code",
   "execution_count": 7,
   "id": "593cd728",
   "metadata": {
    "scrolled": true
   },
   "outputs": [
    {
     "data": {
      "text/plain": [
       "Index(['color', 'music', 'beverage', 'softdrink', 'gender'], dtype='object')"
      ]
     },
     "execution_count": 7,
     "metadata": {},
     "output_type": "execute_result"
    }
   ],
   "source": [
    "# columns rename\n",
    "df.columns = ['color', 'music', 'beverage', 'softdrink', 'gender']\n",
    "df.columns"
   ]
  },
  {
   "cell_type": "markdown",
   "id": "d7a5f77b",
   "metadata": {},
   "source": [
    "* ### Columns visualisation"
   ]
  },
  {
   "cell_type": "code",
   "execution_count": 8,
   "id": "62503f9b",
   "metadata": {
    "scrolled": false
   },
   "outputs": [
    {
     "data": {
      "image/png": "[encoded data removed]",
      "text/plain": [
       "<Figure size 1000x1800 with 5 Axes>"
      ]
     },
     "metadata": {},
     "output_type": "display_data"
    }
   ],
   "source": [
    "# columns visualisation\n",
    "fig, axes = plt.subplots(nrows=5, ncols=1, figsize=(10, 18))\n",
    "for i in range(len(df.columns)):\n",
    "    sns.countplot(data=df, x=df.iloc[:,i], ax=axes[i])"
   ]
  },
  {
   "cell_type": "markdown",
   "id": "bdd657e7",
   "metadata": {},
   "source": [
    "* ### 'gender' attribute value counts "
   ]
  },
  {
   "cell_type": "code",
   "execution_count": 9,
   "id": "d6198114",
   "metadata": {
    "scrolled": true
   },
   "outputs": [
    {
     "data": {
      "text/plain": [
       "gender\n",
       "F    33\n",
       "M    33\n",
       "Name: count, dtype: int64"
      ]
     },
     "execution_count": 9,
     "metadata": {},
     "output_type": "execute_result"
    }
   ],
   "source": [
    "# 'gender' value counts \n",
    "df['gender'].value_counts()"
   ]
  },
  {
   "cell_type": "markdown",
   "id": "47f08f1b",
   "metadata": {},
   "source": [
    "There are 33 of 'Female' and 33 of 'Male' in our dataset. This means that our dataset is balanced."
   ]
  },
  {
   "cell_type": "markdown",
   "id": "a4bfc26d",
   "metadata": {
    "papermill": {
     "duration": 0.02239,
     "end_time": "2021-05-12T06:37:36.285297",
     "exception": false,
     "start_time": "2021-05-12T06:37:36.262907",
     "status": "completed"
    },
    "tags": []
   },
   "source": [
    "* ### Encode the Data"
   ]
  },
  {
   "cell_type": "code",
   "execution_count": 10,
   "id": "a37dd2c2",
   "metadata": {
    "execution": {
     "iopub.execute_input": "2021-05-12T06:37:36.333225Z",
     "iopub.status.busy": "2021-05-12T06:37:36.332597Z",
     "iopub.status.idle": "2021-05-12T06:37:37.594161Z",
     "shell.execute_reply": "2021-05-12T06:37:37.593612Z"
    },
    "papermill": {
     "duration": 1.286573,
     "end_time": "2021-05-12T06:37:37.594309",
     "exception": false,
     "start_time": "2021-05-12T06:37:36.307736",
     "status": "completed"
    },
    "scrolled": true,
    "tags": []
   },
   "outputs": [
    {
     "data": {
      "text/html": [
       "<div>\n",
       "<style scoped>\n",
       "    .dataframe tbody tr th:only-of-type {\n",
       "        vertical-align: middle;\n",
       "    }\n",
       "\n",
       "    .dataframe tbody tr th {\n",
       "        vertical-align: top;\n",
       "    }\n",
       "\n",
       "    .dataframe thead th {\n",
       "        text-align: right;\n",
       "    }\n",
       "</style>\n",
       "<table border=\"1\" class=\"dataframe\">\n",
       "  <thead>\n",
       "    <tr style=\"text-align: right;\">\n",
       "      <th></th>\n",
       "      <th>color</th>\n",
       "      <th>music</th>\n",
       "      <th>beverage</th>\n",
       "      <th>softdrink</th>\n",
       "      <th>gender</th>\n",
       "    </tr>\n",
       "  </thead>\n",
       "  <tbody>\n",
       "    <tr>\n",
       "      <th>0</th>\n",
       "      <td>0</td>\n",
       "      <td>6</td>\n",
       "      <td>3</td>\n",
       "      <td>0</td>\n",
       "      <td>0</td>\n",
       "    </tr>\n",
       "    <tr>\n",
       "      <th>1</th>\n",
       "      <td>1</td>\n",
       "      <td>2</td>\n",
       "      <td>3</td>\n",
       "      <td>1</td>\n",
       "      <td>0</td>\n",
       "    </tr>\n",
       "    <tr>\n",
       "      <th>2</th>\n",
       "      <td>2</td>\n",
       "      <td>6</td>\n",
       "      <td>5</td>\n",
       "      <td>1</td>\n",
       "      <td>0</td>\n",
       "    </tr>\n",
       "    <tr>\n",
       "      <th>3</th>\n",
       "      <td>2</td>\n",
       "      <td>1</td>\n",
       "      <td>4</td>\n",
       "      <td>2</td>\n",
       "      <td>0</td>\n",
       "    </tr>\n",
       "    <tr>\n",
       "      <th>4</th>\n",
       "      <td>0</td>\n",
       "      <td>6</td>\n",
       "      <td>3</td>\n",
       "      <td>1</td>\n",
       "      <td>0</td>\n",
       "    </tr>\n",
       "  </tbody>\n",
       "</table>\n",
       "</div>"
      ],
      "text/plain": [
       "   color  music  beverage  softdrink  gender\n",
       "0      0      6         3          0       0\n",
       "1      1      2         3          1       0\n",
       "2      2      6         5          1       0\n",
       "3      2      1         4          2       0\n",
       "4      0      6         3          1       0"
      ]
     },
     "execution_count": 10,
     "metadata": {},
     "output_type": "execute_result"
    }
   ],
   "source": [
    "# label encoding\n",
    "data = df\n",
    "\n",
    "le_color = LabelEncoder()\n",
    "data['color'] = le_color.fit_transform(df.color.values)\n",
    "\n",
    "le_music = LabelEncoder()\n",
    "data['music'] = le_music.fit_transform(df.music.values)\n",
    "\n",
    "le_beverage = LabelEncoder()\n",
    "data['beverage'] = le_beverage.fit_transform(df.beverage.values)\n",
    "\n",
    "le_softdrink = LabelEncoder()\n",
    "data['softdrink'] = le_softdrink.fit_transform(df.softdrink.values)\n",
    "\n",
    "le_gender = LabelEncoder()\n",
    "data['gender'] = le_gender.fit_transform(df.gender.values)\n",
    "\n",
    "data.head()"
   ]
  },
  {
   "cell_type": "markdown",
   "id": "fbaa6e4d",
   "metadata": {},
   "source": [
    "## Part 3: Data Wrangling and Transformation."
   ]
  },
  {
   "cell_type": "markdown",
   "id": "971ef729",
   "metadata": {
    "papermill": {
     "duration": 0.029702,
     "end_time": "2021-05-12T06:37:38.664858",
     "exception": false,
     "start_time": "2021-05-12T06:37:38.635156",
     "status": "completed"
    },
    "tags": []
   },
   "source": [
    "* ### Creating datasets for ML part"
   ]
  },
  {
   "cell_type": "code",
   "execution_count": 11,
   "id": "1109447c",
   "metadata": {
    "execution": {
     "iopub.execute_input": "2021-05-12T06:37:38.722329Z",
     "iopub.status.busy": "2021-05-12T06:37:38.721379Z",
     "iopub.status.idle": "2021-05-12T06:37:38.806079Z",
     "shell.execute_reply": "2021-05-12T06:37:38.807281Z"
    },
    "papermill": {
     "duration": 0.117005,
     "end_time": "2021-05-12T06:37:38.807542",
     "exception": false,
     "start_time": "2021-05-12T06:37:38.690537",
     "status": "completed"
    },
    "tags": []
   },
   "outputs": [],
   "source": [
    "# set 'X' for features' and y' for the target ('gender').\n",
    "y = data['gender']\n",
    "X = data.drop(['gender'], axis=1)"
   ]
  },
  {
   "cell_type": "markdown",
   "id": "35441eb8",
   "metadata": {},
   "source": [
    "* ### 'Train\\Test' split"
   ]
  },
  {
   "cell_type": "code",
   "execution_count": 12,
   "id": "4a34bbb6",
   "metadata": {},
   "outputs": [],
   "source": [
    "# 'Train\\Test' splitting method\n",
    "X_train, X_test, y_train, y_test = train_test_split(X, y, test_size=0.3, random_state=0)"
   ]
  },
  {
   "cell_type": "markdown",
   "id": "ceb62e30",
   "metadata": {},
   "source": [
    "## Part 4: Machine Learning."
   ]
  },
  {
   "cell_type": "markdown",
   "id": "00899030",
   "metadata": {},
   "source": [
    "* ### Build, train and evaluate model"
   ]
  },
  {
   "cell_type": "markdown",
   "id": "653e6332",
   "metadata": {
    "papermill": {
     "duration": 0.025229,
     "end_time": "2021-05-12T06:37:38.959430",
     "exception": false,
     "start_time": "2021-05-12T06:37:38.934201",
     "status": "completed"
    },
    "tags": []
   },
   "source": [
    "### Logistic Regression"
   ]
  },
  {
   "cell_type": "code",
   "execution_count": 13,
   "id": "c588316a",
   "metadata": {
    "execution": {
     "iopub.execute_input": "2021-05-12T06:37:39.015844Z",
     "iopub.status.busy": "2021-05-12T06:37:39.015009Z",
     "iopub.status.idle": "2021-05-12T06:37:39.161675Z",
     "shell.execute_reply": "2021-05-12T06:37:39.162217Z"
    },
    "papermill": {
     "duration": 0.177869,
     "end_time": "2021-05-12T06:37:39.162420",
     "exception": false,
     "start_time": "2021-05-12T06:37:38.984551",
     "status": "completed"
    },
    "tags": []
   },
   "outputs": [],
   "source": [
    "# Logistic Regression model\n",
    "LR = LogisticRegression(random_state=0)\n",
    "LR.fit(X_train, y_train)\n",
    "LR_pred = LR.predict(X_test)"
   ]
  },
  {
   "cell_type": "code",
   "execution_count": 14,
   "id": "22fa5b55",
   "metadata": {},
   "outputs": [
    {
     "data": {
      "text/plain": [
       "array([1, 1, 1, 1, 1, 0, 0, 0, 1, 0, 1, 0, 0, 1, 1, 0, 0, 0, 0, 0])"
      ]
     },
     "execution_count": 14,
     "metadata": {},
     "output_type": "execute_result"
    }
   ],
   "source": [
    "# LR predictions\n",
    "LR_pred"
   ]
  },
  {
   "cell_type": "markdown",
   "id": "732e67f4",
   "metadata": {},
   "source": [
    "* ### Visualisation of predictions"
   ]
  },
  {
   "cell_type": "code",
   "execution_count": 15,
   "id": "4d22394c",
   "metadata": {},
   "outputs": [
    {
     "data": {
      "text/html": [
       "<style type=\"text/css\">\n",
       "#T_96771_row0_col0, #T_96771_row0_col1, #T_96771_row1_col1, #T_96771_row2_col1, #T_96771_row3_col0, #T_96771_row3_col1, #T_96771_row4_col0, #T_96771_row4_col1, #T_96771_row6_col0, #T_96771_row7_col0, #T_96771_row8_col0, #T_96771_row8_col1 {\n",
       "  background-color: #08306b;\n",
       "  color: #f1f1f1;\n",
       "}\n",
       "#T_96771_row1_col0, #T_96771_row2_col0, #T_96771_row5_col0, #T_96771_row5_col1, #T_96771_row6_col1, #T_96771_row7_col1, #T_96771_row9_col0, #T_96771_row9_col1 {\n",
       "  background-color: #f7fbff;\n",
       "  color: #000000;\n",
       "}\n",
       "</style>\n",
       "<table id=\"T_96771\">\n",
       "  <thead>\n",
       "    <tr>\n",
       "      <th class=\"blank level0\" >&nbsp;</th>\n",
       "      <th id=\"T_96771_level0_col0\" class=\"col_heading level0 col0\" >Actual Gender</th>\n",
       "      <th id=\"T_96771_level0_col1\" class=\"col_heading level0 col1\" >LR Predicted Gender</th>\n",
       "    </tr>\n",
       "  </thead>\n",
       "  <tbody>\n",
       "    <tr>\n",
       "      <th id=\"T_96771_level0_row0\" class=\"row_heading level0 row0\" >45</th>\n",
       "      <td id=\"T_96771_row0_col0\" class=\"data row0 col0\" >1</td>\n",
       "      <td id=\"T_96771_row0_col1\" class=\"data row0 col1\" >1</td>\n",
       "    </tr>\n",
       "    <tr>\n",
       "      <th id=\"T_96771_level0_row1\" class=\"row_heading level0 row1\" >28</th>\n",
       "      <td id=\"T_96771_row1_col0\" class=\"data row1 col0\" >0</td>\n",
       "      <td id=\"T_96771_row1_col1\" class=\"data row1 col1\" >1</td>\n",
       "    </tr>\n",
       "    <tr>\n",
       "      <th id=\"T_96771_level0_row2\" class=\"row_heading level0 row2\" >29</th>\n",
       "      <td id=\"T_96771_row2_col0\" class=\"data row2 col0\" >0</td>\n",
       "      <td id=\"T_96771_row2_col1\" class=\"data row2 col1\" >1</td>\n",
       "    </tr>\n",
       "    <tr>\n",
       "      <th id=\"T_96771_level0_row3\" class=\"row_heading level0 row3\" >55</th>\n",
       "      <td id=\"T_96771_row3_col0\" class=\"data row3 col0\" >1</td>\n",
       "      <td id=\"T_96771_row3_col1\" class=\"data row3 col1\" >1</td>\n",
       "    </tr>\n",
       "    <tr>\n",
       "      <th id=\"T_96771_level0_row4\" class=\"row_heading level0 row4\" >63</th>\n",
       "      <td id=\"T_96771_row4_col0\" class=\"data row4 col0\" >1</td>\n",
       "      <td id=\"T_96771_row4_col1\" class=\"data row4 col1\" >1</td>\n",
       "    </tr>\n",
       "    <tr>\n",
       "      <th id=\"T_96771_level0_row5\" class=\"row_heading level0 row5\" >31</th>\n",
       "      <td id=\"T_96771_row5_col0\" class=\"data row5 col0\" >0</td>\n",
       "      <td id=\"T_96771_row5_col1\" class=\"data row5 col1\" >0</td>\n",
       "    </tr>\n",
       "    <tr>\n",
       "      <th id=\"T_96771_level0_row6\" class=\"row_heading level0 row6\" >51</th>\n",
       "      <td id=\"T_96771_row6_col0\" class=\"data row6 col0\" >1</td>\n",
       "      <td id=\"T_96771_row6_col1\" class=\"data row6 col1\" >0</td>\n",
       "    </tr>\n",
       "    <tr>\n",
       "      <th id=\"T_96771_level0_row7\" class=\"row_heading level0 row7\" >46</th>\n",
       "      <td id=\"T_96771_row7_col0\" class=\"data row7 col0\" >1</td>\n",
       "      <td id=\"T_96771_row7_col1\" class=\"data row7 col1\" >0</td>\n",
       "    </tr>\n",
       "    <tr>\n",
       "      <th id=\"T_96771_level0_row8\" class=\"row_heading level0 row8\" >34</th>\n",
       "      <td id=\"T_96771_row8_col0\" class=\"data row8 col0\" >1</td>\n",
       "      <td id=\"T_96771_row8_col1\" class=\"data row8 col1\" >1</td>\n",
       "    </tr>\n",
       "    <tr>\n",
       "      <th id=\"T_96771_level0_row9\" class=\"row_heading level0 row9\" >4</th>\n",
       "      <td id=\"T_96771_row9_col0\" class=\"data row9 col0\" >0</td>\n",
       "      <td id=\"T_96771_row9_col1\" class=\"data row9 col1\" >0</td>\n",
       "    </tr>\n",
       "  </tbody>\n",
       "</table>\n"
      ],
      "text/plain": [
       "<pandas.io.formats.style.Styler at 0x18779ea28b0>"
      ]
     },
     "execution_count": 15,
     "metadata": {},
     "output_type": "execute_result"
    }
   ],
   "source": [
    "# visual comparison between Actual 'Gender' and Predicted 'Gender'\n",
    "actualvspredicted = pd.DataFrame({'Actual Gender':y_test, 'LR Predicted Gender': LR_pred})\n",
    "actualvspredicted.head(10).style.background_gradient(cmap='Blues')"
   ]
  },
  {
   "cell_type": "markdown",
   "id": "fcb2b51d",
   "metadata": {},
   "source": [
    "* ### Classification report"
   ]
  },
  {
   "cell_type": "code",
   "execution_count": 16,
   "id": "51b81e71",
   "metadata": {
    "scrolled": false
   },
   "outputs": [
    {
     "name": "stdout",
     "output_type": "stream",
     "text": [
      "LR Classification Report: \n",
      "               precision    recall  f1-score   support\n",
      "\n",
      "           0   0.636364  0.777778  0.700000         9\n",
      "           1   0.777778  0.636364  0.700000        11\n",
      "\n",
      "    accuracy                       0.700000        20\n",
      "   macro avg   0.707071  0.707071  0.700000        20\n",
      "weighted avg   0.714141  0.700000  0.700000        20\n",
      "\n"
     ]
    }
   ],
   "source": [
    "# classification report of LR model\n",
    "print('LR Classification Report: \\n', classification_report(y_test, LR_pred, digits=6))"
   ]
  },
  {
   "cell_type": "markdown",
   "id": "2863a36a",
   "metadata": {},
   "source": [
    "* ### Confusion matrix"
   ]
  },
  {
   "cell_type": "code",
   "execution_count": 17,
   "id": "7b55e611",
   "metadata": {},
   "outputs": [
    {
     "name": "stdout",
     "output_type": "stream",
     "text": [
      "LR Confusion Matrix\n"
     ]
    },
    {
     "data": {
      "image/png": "[encoded data removed]",
      "text/plain": [
       "<Figure size 640x480 with 2 Axes>"
      ]
     },
     "metadata": {},
     "output_type": "display_data"
    },
    {
     "name": "stdout",
     "output_type": "stream",
     "text": [
      "\n"
     ]
    }
   ],
   "source": [
    "# confusion matrix of LR model\n",
    "LR_confusion_mx = confusion_matrix(y_test, LR_pred)\n",
    "print('LR Confusion Matrix')\n",
    "\n",
    "# visualisation\n",
    "ax = plt.subplot()\n",
    "sns.heatmap(LR_confusion_mx, annot=True, fmt='d', cmap='Blues', ax=ax, linewidths=0.5, annot_kws={'size':15})\n",
    "ax.set_ylabel('FP    True label    TP')\n",
    "ax.set_xlabel('FN    Predicted label    TN')\n",
    "ax.xaxis.set_ticklabels(['1', '0'], fontsize=10)\n",
    "ax.yaxis.set_ticklabels(['1', '0'], fontsize=10)\n",
    "plt.show()\n",
    "print()"
   ]
  },
  {
   "cell_type": "markdown",
   "id": "956e5163",
   "metadata": {},
   "source": [
    "* ### ROC-AUC score"
   ]
  },
  {
   "cell_type": "code",
   "execution_count": 18,
   "id": "3583e2c3",
   "metadata": {
    "scrolled": false
   },
   "outputs": [
    {
     "data": {
      "text/plain": [
       "0.7070707070707071"
      ]
     },
     "execution_count": 18,
     "metadata": {},
     "output_type": "execute_result"
    }
   ],
   "source": [
    "# ROC-AUC score of LR model\n",
    "roc_auc_score(LR_pred, y_test)"
   ]
  },
  {
   "cell_type": "markdown",
   "id": "3951b096",
   "metadata": {},
   "source": [
    "##  Conclusion."
   ]
  },
  {
   "cell_type": "markdown",
   "id": "a059172c",
   "metadata": {},
   "source": [
    "**The main question** was: Predict a person's gender based on their personal preferences (check balance of classes; calculate perdictions).\n",
    "\n",
    "**Answers**: \n",
    "\n",
    "1. The data is too small. Only 66 instances.\n",
    "\n",
    "2. The classes are balanced.\n",
    "\n",
    "3. Logistic Regression model was choosen. Predictions (with visual comparison) were done with an accuracy of the model equal 0.7, no hyper parameters were applied."
   ]
  },
  {
   "cell_type": "code",
   "execution_count": null,
   "id": "414ac9b4",
   "metadata": {},
   "outputs": [],
   "source": []
  }
 ],
 "metadata": {
  "kernelspec": {
   "display_name": "Python 3 (ipykernel)",
   "language": "python",
   "name": "python3"
  },
  "language_info": {
   "codemirror_mode": {
    "name": "ipython",
    "version": 3
   },
   "file_extension": ".py",
   "mimetype": "text/x-python",
   "name": "python",
   "nbconvert_exporter": "python",
   "pygments_lexer": "ipython3",
   "version": "3.9.10"
  },
  "papermill": {
   "default_parameters": {},
   "duration": 12.03125,
   "end_time": "2021-05-12T06:37:40.714635",
   "environment_variables": {},
   "exception": null,
   "input_path": "__notebook__.ipynb",
   "output_path": "__notebook__.ipynb",
   "parameters": {},
   "start_time": "2021-05-12T06:37:28.683385",
   "version": "2.3.2"
  }
 },
 "nbformat": 4,
 "nbformat_minor": 5
}
